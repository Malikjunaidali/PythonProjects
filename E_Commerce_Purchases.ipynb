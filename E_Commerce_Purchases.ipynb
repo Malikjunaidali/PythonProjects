{
 "cells": [
  {
   "cell_type": "code",
   "execution_count": 3,
   "metadata": {},
   "outputs": [],
   "source": [
    "import pandas as pd\n",
    "import matplotlib.pyplot as plt\n",
    "df = pd.read_csv('F:\\python\\Data Analysis Projects\\E-Commerce Purchases\\Ecommerce.csv')"
   ]
  },
  {
   "cell_type": "markdown",
   "metadata": {},
   "source": [
    "Task 1: Display the first 10 rows of the Dataset"
   ]
  },
  {
   "cell_type": "code",
   "execution_count": 1,
   "metadata": {},
   "outputs": [
    {
     "ename": "NameError",
     "evalue": "name 'df' is not defined",
     "output_type": "error",
     "traceback": [
      "\u001b[1;31m---------------------------------------------------------------------------\u001b[0m",
      "\u001b[1;31mNameError\u001b[0m                                 Traceback (most recent call last)",
      "\u001b[1;32m<ipython-input-1-ea5912778d88>\u001b[0m in \u001b[0;36m<module>\u001b[1;34m\u001b[0m\n\u001b[1;32m----> 1\u001b[1;33m \u001b[0mdf\u001b[0m\u001b[1;33m.\u001b[0m\u001b[0mhead\u001b[0m\u001b[1;33m(\u001b[0m\u001b[1;36m10\u001b[0m\u001b[1;33m)\u001b[0m\u001b[1;33m\u001b[0m\u001b[1;33m\u001b[0m\u001b[0m\n\u001b[0m\u001b[0;32m      2\u001b[0m \u001b[1;33m\u001b[0m\u001b[0m\n",
      "\u001b[1;31mNameError\u001b[0m: name 'df' is not defined"
     ]
    }
   ],
   "source": [
    "df.head(10)\n",
    "\n"
   ]
  },
  {
   "cell_type": "markdown",
   "metadata": {},
   "source": [
    "Task 2: Show the last 10 rows of the dataset!\n"
   ]
  },
  {
   "cell_type": "code",
   "execution_count": 5,
   "metadata": {},
   "outputs": [
    {
     "data": {
      "text/html": [
       "<div>\n",
       "<style scoped>\n",
       "    .dataframe tbody tr th:only-of-type {\n",
       "        vertical-align: middle;\n",
       "    }\n",
       "\n",
       "    .dataframe tbody tr th {\n",
       "        vertical-align: top;\n",
       "    }\n",
       "\n",
       "    .dataframe thead th {\n",
       "        text-align: right;\n",
       "    }\n",
       "</style>\n",
       "<table border=\"1\" class=\"dataframe\">\n",
       "  <thead>\n",
       "    <tr style=\"text-align: right;\">\n",
       "      <th></th>\n",
       "      <th>Address</th>\n",
       "      <th>Lot</th>\n",
       "      <th>AM or PM</th>\n",
       "      <th>Browser Info</th>\n",
       "      <th>Company</th>\n",
       "      <th>Credit Card</th>\n",
       "      <th>CC Exp Date</th>\n",
       "      <th>CC Security Code</th>\n",
       "      <th>CC Provider</th>\n",
       "      <th>Email</th>\n",
       "      <th>Job</th>\n",
       "      <th>IP Address</th>\n",
       "      <th>Language</th>\n",
       "      <th>Purchase Price</th>\n",
       "    </tr>\n",
       "  </thead>\n",
       "  <tbody>\n",
       "    <tr>\n",
       "      <th>9990</th>\n",
       "      <td>75731 Molly Springs\\nWest Danielle, VT 96934-5102</td>\n",
       "      <td>93 ty</td>\n",
       "      <td>PM</td>\n",
       "      <td>Mozilla/5.0 (Macintosh; Intel Mac OS X 10_7_4;...</td>\n",
       "      <td>Pace, Vazquez and Richards</td>\n",
       "      <td>8.700000e+14</td>\n",
       "      <td>24-Apr</td>\n",
       "      <td>877</td>\n",
       "      <td>JCB 15 digit</td>\n",
       "      <td>andersonmichael@sherman.biz</td>\n",
       "      <td>Early years teacher</td>\n",
       "      <td>54.170.3.185</td>\n",
       "      <td>ru</td>\n",
       "      <td>18.35</td>\n",
       "    </tr>\n",
       "    <tr>\n",
       "      <th>9991</th>\n",
       "      <td>PSC 8165, Box 8498\\nAPO AP 60327-0346</td>\n",
       "      <td>50 dA</td>\n",
       "      <td>AM</td>\n",
       "      <td>Mozilla/5.0 (compatible; MSIE 8.0; Windows NT ...</td>\n",
       "      <td>Snyder Inc</td>\n",
       "      <td>4.220000e+15</td>\n",
       "      <td>24-Feb</td>\n",
       "      <td>969</td>\n",
       "      <td>Voyager</td>\n",
       "      <td>kking@wise-liu.com</td>\n",
       "      <td>IT sales professional</td>\n",
       "      <td>254.25.31.156</td>\n",
       "      <td>el</td>\n",
       "      <td>25.93</td>\n",
       "    </tr>\n",
       "    <tr>\n",
       "      <th>9992</th>\n",
       "      <td>885 Allen Mountains Apt. 230\\nWallhaven, LA 16995</td>\n",
       "      <td>40 vH</td>\n",
       "      <td>PM</td>\n",
       "      <td>Mozilla/5.0 (Macintosh; PPC Mac OS X 10_6_5) A...</td>\n",
       "      <td>Wells Ltd</td>\n",
       "      <td>4.660000e+15</td>\n",
       "      <td>20-Oct</td>\n",
       "      <td>431</td>\n",
       "      <td>Discover</td>\n",
       "      <td>bberry@wright.net</td>\n",
       "      <td>Set designer</td>\n",
       "      <td>174.173.51.32</td>\n",
       "      <td>de</td>\n",
       "      <td>67.96</td>\n",
       "    </tr>\n",
       "    <tr>\n",
       "      <th>9993</th>\n",
       "      <td>7555 Larson Locks Suite 229\\nEllisburgh, MA 34...</td>\n",
       "      <td>72 jg</td>\n",
       "      <td>PM</td>\n",
       "      <td>Mozilla/5.0 (Macintosh; U; Intel Mac OS X 10_8...</td>\n",
       "      <td>Colon and Sons</td>\n",
       "      <td>3.000000e+13</td>\n",
       "      <td>25-Oct</td>\n",
       "      <td>629</td>\n",
       "      <td>Maestro</td>\n",
       "      <td>chelseawilliams@lopez.biz</td>\n",
       "      <td>Designer, exhibition/display</td>\n",
       "      <td>177.46.82.128</td>\n",
       "      <td>el</td>\n",
       "      <td>65.61</td>\n",
       "    </tr>\n",
       "    <tr>\n",
       "      <th>9994</th>\n",
       "      <td>6276 Rojas Hollow\\nLake Louis, WY 56410-7837</td>\n",
       "      <td>93 Ex</td>\n",
       "      <td>PM</td>\n",
       "      <td>Opera/9.68.(X11; Linux x86_64; sl-SI) Presto/2...</td>\n",
       "      <td>Ritter-Smith</td>\n",
       "      <td>3.110000e+15</td>\n",
       "      <td>25-Jan</td>\n",
       "      <td>1823</td>\n",
       "      <td>Maestro</td>\n",
       "      <td>iroberts@gmail.com</td>\n",
       "      <td>Education officer, museum</td>\n",
       "      <td>242.44.112.18</td>\n",
       "      <td>zh</td>\n",
       "      <td>31.85</td>\n",
       "    </tr>\n",
       "    <tr>\n",
       "      <th>9995</th>\n",
       "      <td>966 Castaneda Locks\\nWest Juliafurt, CO 96415</td>\n",
       "      <td>92 XI</td>\n",
       "      <td>PM</td>\n",
       "      <td>Mozilla/5.0 (Windows NT 5.1) AppleWebKit/5352 ...</td>\n",
       "      <td>Randall-Sloan</td>\n",
       "      <td>3.430000e+14</td>\n",
       "      <td>22-Mar</td>\n",
       "      <td>838</td>\n",
       "      <td>JCB 15 digit</td>\n",
       "      <td>iscott@wade-garner.com</td>\n",
       "      <td>Printmaker</td>\n",
       "      <td>29.73.197.114</td>\n",
       "      <td>it</td>\n",
       "      <td>82.21</td>\n",
       "    </tr>\n",
       "    <tr>\n",
       "      <th>9996</th>\n",
       "      <td>832 Curtis Dam Suite 785\\nNorth Edwardburgh, T...</td>\n",
       "      <td>41 JY</td>\n",
       "      <td>AM</td>\n",
       "      <td>Mozilla/5.0 (compatible; MSIE 9.0; Windows NT ...</td>\n",
       "      <td>Hale, Collins and Wilson</td>\n",
       "      <td>2.100000e+14</td>\n",
       "      <td>25-Jul</td>\n",
       "      <td>207</td>\n",
       "      <td>JCB 16 digit</td>\n",
       "      <td>mary85@hotmail.com</td>\n",
       "      <td>Energy engineer</td>\n",
       "      <td>121.133.168.51</td>\n",
       "      <td>pt</td>\n",
       "      <td>25.63</td>\n",
       "    </tr>\n",
       "    <tr>\n",
       "      <th>9997</th>\n",
       "      <td>Unit 4434 Box 6343\\nDPO AE 28026-0283</td>\n",
       "      <td>74 Zh</td>\n",
       "      <td>AM</td>\n",
       "      <td>Mozilla/5.0 (Macintosh; U; Intel Mac OS X 10_7...</td>\n",
       "      <td>Anderson Ltd</td>\n",
       "      <td>6.010000e+15</td>\n",
       "      <td>21-May</td>\n",
       "      <td>1</td>\n",
       "      <td>VISA 16 digit</td>\n",
       "      <td>tyler16@gmail.com</td>\n",
       "      <td>Veterinary surgeon</td>\n",
       "      <td>156.210.0.254</td>\n",
       "      <td>el</td>\n",
       "      <td>83.98</td>\n",
       "    </tr>\n",
       "    <tr>\n",
       "      <th>9998</th>\n",
       "      <td>0096 English Rest\\nRoystad, IA 12457</td>\n",
       "      <td>74 cL</td>\n",
       "      <td>PM</td>\n",
       "      <td>Mozilla/5.0 (Macintosh; Intel Mac OS X 10_8_8;...</td>\n",
       "      <td>Cook Inc</td>\n",
       "      <td>1.800000e+14</td>\n",
       "      <td>17-Nov</td>\n",
       "      <td>987</td>\n",
       "      <td>American Express</td>\n",
       "      <td>elizabethmoore@reid.net</td>\n",
       "      <td>Local government officer</td>\n",
       "      <td>55.78.26.143</td>\n",
       "      <td>es</td>\n",
       "      <td>38.84</td>\n",
       "    </tr>\n",
       "    <tr>\n",
       "      <th>9999</th>\n",
       "      <td>40674 Barrett Stravenue\\nGrimesville, WI 79682</td>\n",
       "      <td>64 Hr</td>\n",
       "      <td>AM</td>\n",
       "      <td>Mozilla/5.0 (X11; Linux i686; rv:1.9.5.20) Gec...</td>\n",
       "      <td>Greene Inc</td>\n",
       "      <td>4.140000e+15</td>\n",
       "      <td>19-Feb</td>\n",
       "      <td>302</td>\n",
       "      <td>JCB 15 digit</td>\n",
       "      <td>rachelford@vaughn.com</td>\n",
       "      <td>Embryologist, clinical</td>\n",
       "      <td>176.119.198.199</td>\n",
       "      <td>el</td>\n",
       "      <td>67.59</td>\n",
       "    </tr>\n",
       "  </tbody>\n",
       "</table>\n",
       "</div>"
      ],
      "text/plain": [
       "                                                Address    Lot AM or PM  \\\n",
       "9990  75731 Molly Springs\\nWest Danielle, VT 96934-5102  93 ty       PM   \n",
       "9991              PSC 8165, Box 8498\\nAPO AP 60327-0346  50 dA       AM   \n",
       "9992  885 Allen Mountains Apt. 230\\nWallhaven, LA 16995  40 vH       PM   \n",
       "9993  7555 Larson Locks Suite 229\\nEllisburgh, MA 34...  72 jg       PM   \n",
       "9994       6276 Rojas Hollow\\nLake Louis, WY 56410-7837  93 Ex       PM   \n",
       "9995      966 Castaneda Locks\\nWest Juliafurt, CO 96415  92 XI       PM   \n",
       "9996  832 Curtis Dam Suite 785\\nNorth Edwardburgh, T...  41 JY       AM   \n",
       "9997              Unit 4434 Box 6343\\nDPO AE 28026-0283  74 Zh       AM   \n",
       "9998               0096 English Rest\\nRoystad, IA 12457  74 cL       PM   \n",
       "9999     40674 Barrett Stravenue\\nGrimesville, WI 79682  64 Hr       AM   \n",
       "\n",
       "                                           Browser Info  \\\n",
       "9990  Mozilla/5.0 (Macintosh; Intel Mac OS X 10_7_4;...   \n",
       "9991  Mozilla/5.0 (compatible; MSIE 8.0; Windows NT ...   \n",
       "9992  Mozilla/5.0 (Macintosh; PPC Mac OS X 10_6_5) A...   \n",
       "9993  Mozilla/5.0 (Macintosh; U; Intel Mac OS X 10_8...   \n",
       "9994  Opera/9.68.(X11; Linux x86_64; sl-SI) Presto/2...   \n",
       "9995  Mozilla/5.0 (Windows NT 5.1) AppleWebKit/5352 ...   \n",
       "9996  Mozilla/5.0 (compatible; MSIE 9.0; Windows NT ...   \n",
       "9997  Mozilla/5.0 (Macintosh; U; Intel Mac OS X 10_7...   \n",
       "9998  Mozilla/5.0 (Macintosh; Intel Mac OS X 10_8_8;...   \n",
       "9999  Mozilla/5.0 (X11; Linux i686; rv:1.9.5.20) Gec...   \n",
       "\n",
       "                         Company   Credit Card CC Exp Date  CC Security Code  \\\n",
       "9990  Pace, Vazquez and Richards  8.700000e+14      24-Apr               877   \n",
       "9991                  Snyder Inc  4.220000e+15      24-Feb               969   \n",
       "9992                   Wells Ltd  4.660000e+15      20-Oct               431   \n",
       "9993              Colon and Sons  3.000000e+13      25-Oct               629   \n",
       "9994                Ritter-Smith  3.110000e+15      25-Jan              1823   \n",
       "9995               Randall-Sloan  3.430000e+14      22-Mar               838   \n",
       "9996    Hale, Collins and Wilson  2.100000e+14      25-Jul               207   \n",
       "9997                Anderson Ltd  6.010000e+15      21-May                 1   \n",
       "9998                    Cook Inc  1.800000e+14      17-Nov               987   \n",
       "9999                  Greene Inc  4.140000e+15      19-Feb               302   \n",
       "\n",
       "           CC Provider                        Email  \\\n",
       "9990      JCB 15 digit  andersonmichael@sherman.biz   \n",
       "9991           Voyager           kking@wise-liu.com   \n",
       "9992          Discover            bberry@wright.net   \n",
       "9993           Maestro    chelseawilliams@lopez.biz   \n",
       "9994           Maestro           iroberts@gmail.com   \n",
       "9995      JCB 15 digit       iscott@wade-garner.com   \n",
       "9996      JCB 16 digit           mary85@hotmail.com   \n",
       "9997     VISA 16 digit            tyler16@gmail.com   \n",
       "9998  American Express      elizabethmoore@reid.net   \n",
       "9999      JCB 15 digit        rachelford@vaughn.com   \n",
       "\n",
       "                               Job       IP Address Language  Purchase Price  \n",
       "9990           Early years teacher     54.170.3.185       ru           18.35  \n",
       "9991         IT sales professional    254.25.31.156       el           25.93  \n",
       "9992                  Set designer    174.173.51.32       de           67.96  \n",
       "9993  Designer, exhibition/display    177.46.82.128       el           65.61  \n",
       "9994     Education officer, museum    242.44.112.18       zh           31.85  \n",
       "9995                    Printmaker    29.73.197.114       it           82.21  \n",
       "9996               Energy engineer   121.133.168.51       pt           25.63  \n",
       "9997            Veterinary surgeon    156.210.0.254       el           83.98  \n",
       "9998      Local government officer     55.78.26.143       es           38.84  \n",
       "9999        Embryologist, clinical  176.119.198.199       el           67.59  "
      ]
     },
     "execution_count": 5,
     "metadata": {},
     "output_type": "execute_result"
    }
   ],
   "source": [
    "df.tail(10)"
   ]
  },
  {
   "cell_type": "markdown",
   "metadata": {},
   "source": [
    "Task 3: Check datatype of each column!"
   ]
  },
  {
   "cell_type": "code",
   "execution_count": 6,
   "metadata": {},
   "outputs": [
    {
     "data": {
      "text/plain": [
       "Address              object\n",
       "Lot                  object\n",
       "AM or PM             object\n",
       "Browser Info         object\n",
       "Company              object\n",
       "Credit Card         float64\n",
       "CC Exp Date          object\n",
       "CC Security Code      int64\n",
       "CC Provider          object\n",
       "Email                object\n",
       "Job                  object\n",
       "IP Address           object\n",
       "Language             object\n",
       "Purchase Price      float64\n",
       "dtype: object"
      ]
     },
     "execution_count": 6,
     "metadata": {},
     "output_type": "execute_result"
    }
   ],
   "source": [
    "df.dtypes"
   ]
  },
  {
   "cell_type": "markdown",
   "metadata": {},
   "source": [
    "Task 4: Check NULL values in the dataset!"
   ]
  },
  {
   "cell_type": "code",
   "execution_count": 7,
   "metadata": {},
   "outputs": [
    {
     "data": {
      "text/plain": [
       "Address             0\n",
       "Lot                 0\n",
       "AM or PM            0\n",
       "Browser Info        0\n",
       "Company             0\n",
       "Credit Card         0\n",
       "CC Exp Date         0\n",
       "CC Security Code    0\n",
       "CC Provider         0\n",
       "Email               0\n",
       "Job                 0\n",
       "IP Address          0\n",
       "Language            0\n",
       "Purchase Price      0\n",
       "dtype: int64"
      ]
     },
     "execution_count": 7,
     "metadata": {},
     "output_type": "execute_result"
    }
   ],
   "source": [
    "df.isnull().sum()"
   ]
  },
  {
   "cell_type": "markdown",
   "metadata": {},
   "source": [
    "Task 5: How many rows and columns are ther in our dataset?"
   ]
  },
  {
   "cell_type": "code",
   "execution_count": 8,
   "metadata": {},
   "outputs": [
    {
     "name": "stdout",
     "output_type": "stream",
     "text": [
      "The number of rows in the dataset are: 10000\n",
      "The number of rows in the dataset are: 14\n"
     ]
    }
   ],
   "source": [
    "col, rows = df.shape\n",
    "print(\"The number of rows in the dataset are:\",col)\n",
    "print(\"The number of rows in the dataset are:\",rows)"
   ]
  },
  {
   "cell_type": "markdown",
   "metadata": {},
   "source": [
    "Task 6: Highest and lowest purchase prices?"
   ]
  },
  {
   "cell_type": "code",
   "execution_count": 9,
   "metadata": {},
   "outputs": [
    {
     "name": "stdout",
     "output_type": "stream",
     "text": [
      "The highest Purchase Price is = 99.99\n",
      "The highest Purchase Price is = 0.0\n"
     ]
    }
   ],
   "source": [
    "print(\"The highest Purchase Price is =\",df['Purchase Price'].max())\n",
    "print(\"The highest Purchase Price is =\",df['Purchase Price'].min())\n"
   ]
  },
  {
   "cell_type": "markdown",
   "metadata": {},
   "source": [
    "Task 7: Average Purchase Price?"
   ]
  },
  {
   "cell_type": "code",
   "execution_count": 10,
   "metadata": {},
   "outputs": [
    {
     "name": "stdout",
     "output_type": "stream",
     "text": [
      "The Average Purchase Price is:  50.347302\n"
     ]
    }
   ],
   "source": [
    "print(\"The Average Purchase Price is: \",df[\"Purchase Price\"].mean())"
   ]
  },
  {
   "cell_type": "markdown",
   "metadata": {},
   "source": [
    "Task 8: How many people have French 'fr' their language?"
   ]
  },
  {
   "cell_type": "code",
   "execution_count": 11,
   "metadata": {},
   "outputs": [
    {
     "data": {
      "text/plain": [
       "1097"
      ]
     },
     "execution_count": 11,
     "metadata": {},
     "output_type": "execute_result"
    }
   ],
   "source": [
    "len(df[df['Language']=='fr'])"
   ]
  },
  {
   "cell_type": "markdown",
   "metadata": {},
   "source": [
    "Task 9: Job Title Contains Engineer!"
   ]
  },
  {
   "cell_type": "code",
   "execution_count": 12,
   "metadata": {},
   "outputs": [
    {
     "data": {
      "text/html": [
       "<div>\n",
       "<style scoped>\n",
       "    .dataframe tbody tr th:only-of-type {\n",
       "        vertical-align: middle;\n",
       "    }\n",
       "\n",
       "    .dataframe tbody tr th {\n",
       "        vertical-align: top;\n",
       "    }\n",
       "\n",
       "    .dataframe thead th {\n",
       "        text-align: right;\n",
       "    }\n",
       "</style>\n",
       "<table border=\"1\" class=\"dataframe\">\n",
       "  <thead>\n",
       "    <tr style=\"text-align: right;\">\n",
       "      <th></th>\n",
       "      <th>Address</th>\n",
       "      <th>Lot</th>\n",
       "      <th>AM or PM</th>\n",
       "      <th>Browser Info</th>\n",
       "      <th>Company</th>\n",
       "      <th>Credit Card</th>\n",
       "      <th>CC Exp Date</th>\n",
       "      <th>CC Security Code</th>\n",
       "      <th>CC Provider</th>\n",
       "      <th>Email</th>\n",
       "      <th>Job</th>\n",
       "      <th>IP Address</th>\n",
       "      <th>Language</th>\n",
       "      <th>Purchase Price</th>\n",
       "    </tr>\n",
       "  </thead>\n",
       "  <tbody>\n",
       "    <tr>\n",
       "      <th>1</th>\n",
       "      <td>9374 Jasmine Spurs Suite 508\\nSouth John, TN 8...</td>\n",
       "      <td>28 rn</td>\n",
       "      <td>PM</td>\n",
       "      <td>Opera/8.93.(Windows 98; Win 9x 4.90; en-US) Pr...</td>\n",
       "      <td>Fletcher, Richards and Whitaker</td>\n",
       "      <td>3.340000e+15</td>\n",
       "      <td>18-Nov</td>\n",
       "      <td>561</td>\n",
       "      <td>Mastercard</td>\n",
       "      <td>anthony41@reed.com</td>\n",
       "      <td>Drilling engineer</td>\n",
       "      <td>15.160.41.51</td>\n",
       "      <td>fr</td>\n",
       "      <td>70.73</td>\n",
       "    </tr>\n",
       "    <tr>\n",
       "      <th>3</th>\n",
       "      <td>7780 Julia Fords\\nNew Stacy, WA 45798</td>\n",
       "      <td>36 vm</td>\n",
       "      <td>PM</td>\n",
       "      <td>Mozilla/5.0 (Macintosh; Intel Mac OS X 10_8_0 ...</td>\n",
       "      <td>Williams, Marshall and Buchanan</td>\n",
       "      <td>6.010000e+15</td>\n",
       "      <td>24-Feb</td>\n",
       "      <td>384</td>\n",
       "      <td>Discover</td>\n",
       "      <td>brent16@olson-robinson.info</td>\n",
       "      <td>Drilling engineer</td>\n",
       "      <td>30.250.74.19</td>\n",
       "      <td>es</td>\n",
       "      <td>78.04</td>\n",
       "    </tr>\n",
       "    <tr>\n",
       "      <th>50</th>\n",
       "      <td>41159 Michael Centers\\nAdamsfort, RI 37108-6674</td>\n",
       "      <td>46 Ce</td>\n",
       "      <td>PM</td>\n",
       "      <td>Mozilla/5.0 (Windows 98; Win 9x 4.90; sl-SI; r...</td>\n",
       "      <td>Wright, Williams and Mendez</td>\n",
       "      <td>4.010000e+15</td>\n",
       "      <td>19-May</td>\n",
       "      <td>945</td>\n",
       "      <td>JCB 16 digit</td>\n",
       "      <td>susanvalentine@obrien.org</td>\n",
       "      <td>Mechanical engineer</td>\n",
       "      <td>213.203.143.215</td>\n",
       "      <td>de</td>\n",
       "      <td>36.85</td>\n",
       "    </tr>\n",
       "    <tr>\n",
       "      <th>55</th>\n",
       "      <td>27635 Maureen Bypass Apt. 883\\nSandraview, SD ...</td>\n",
       "      <td>59 LJ</td>\n",
       "      <td>AM</td>\n",
       "      <td>Mozilla/5.0 (iPod; U; CPU iPhone OS 3_3 like M...</td>\n",
       "      <td>Sims-Lyons</td>\n",
       "      <td>3.160000e+15</td>\n",
       "      <td>19-Sep</td>\n",
       "      <td>857</td>\n",
       "      <td>VISA 16 digit</td>\n",
       "      <td>adkinsarthur@yahoo.com</td>\n",
       "      <td>Engineer, broadcasting (operations)</td>\n",
       "      <td>227.235.89.210</td>\n",
       "      <td>pt</td>\n",
       "      <td>48.74</td>\n",
       "    </tr>\n",
       "    <tr>\n",
       "      <th>60</th>\n",
       "      <td>7126 Katherine Squares\\nPerkinsview, CO 97299-...</td>\n",
       "      <td>63 qu</td>\n",
       "      <td>AM</td>\n",
       "      <td>Opera/8.68.(X11; Linux x86_64; en-US) Presto/2...</td>\n",
       "      <td>Marshall-Fernandez</td>\n",
       "      <td>3.500000e+14</td>\n",
       "      <td>20-May</td>\n",
       "      <td>672</td>\n",
       "      <td>JCB 15 digit</td>\n",
       "      <td>sweeneyhannah@jones.biz</td>\n",
       "      <td>Engineer, agricultural</td>\n",
       "      <td>197.144.142.102</td>\n",
       "      <td>de</td>\n",
       "      <td>20.43</td>\n",
       "    </tr>\n",
       "    <tr>\n",
       "      <th>...</th>\n",
       "      <td>...</td>\n",
       "      <td>...</td>\n",
       "      <td>...</td>\n",
       "      <td>...</td>\n",
       "      <td>...</td>\n",
       "      <td>...</td>\n",
       "      <td>...</td>\n",
       "      <td>...</td>\n",
       "      <td>...</td>\n",
       "      <td>...</td>\n",
       "      <td>...</td>\n",
       "      <td>...</td>\n",
       "      <td>...</td>\n",
       "      <td>...</td>\n",
       "    </tr>\n",
       "    <tr>\n",
       "      <th>9948</th>\n",
       "      <td>95544 Johnson Isle Suite 939\\nMichaelberg, RI ...</td>\n",
       "      <td>91 bW</td>\n",
       "      <td>AM</td>\n",
       "      <td>Opera/8.36.(X11; Linux x86_64; sl-SI) Presto/2...</td>\n",
       "      <td>Fox-Peterson</td>\n",
       "      <td>4.760000e+12</td>\n",
       "      <td>17-Mar</td>\n",
       "      <td>567</td>\n",
       "      <td>Mastercard</td>\n",
       "      <td>haleybenjamin@gmail.com</td>\n",
       "      <td>Structural engineer</td>\n",
       "      <td>120.36.140.58</td>\n",
       "      <td>en</td>\n",
       "      <td>71.89</td>\n",
       "    </tr>\n",
       "    <tr>\n",
       "      <th>9952</th>\n",
       "      <td>9991 Vaughn Hills\\nRacheltown, PA 55409</td>\n",
       "      <td>36 KC</td>\n",
       "      <td>PM</td>\n",
       "      <td>Mozilla/5.0 (X11; Linux i686; rv:1.9.5.20) Gec...</td>\n",
       "      <td>Ward, Smith and Castillo</td>\n",
       "      <td>6.010000e+15</td>\n",
       "      <td>19-Sep</td>\n",
       "      <td>964</td>\n",
       "      <td>Voyager</td>\n",
       "      <td>jonesjennifer@olson.com</td>\n",
       "      <td>Engineer, energy</td>\n",
       "      <td>116.228.12.42</td>\n",
       "      <td>es</td>\n",
       "      <td>39.63</td>\n",
       "    </tr>\n",
       "    <tr>\n",
       "      <th>9970</th>\n",
       "      <td>0060 Keith Stream\\nWestport, CO 47097</td>\n",
       "      <td>11 nt</td>\n",
       "      <td>PM</td>\n",
       "      <td>Mozilla/5.0 (Macintosh; U; Intel Mac OS X 10_8...</td>\n",
       "      <td>Carpenter, Good and Hart</td>\n",
       "      <td>6.010000e+15</td>\n",
       "      <td>19-Jul</td>\n",
       "      <td>543</td>\n",
       "      <td>Discover</td>\n",
       "      <td>rangelbrian@hotmail.com</td>\n",
       "      <td>Electrical engineer</td>\n",
       "      <td>242.8.85.205</td>\n",
       "      <td>en</td>\n",
       "      <td>17.76</td>\n",
       "    </tr>\n",
       "    <tr>\n",
       "      <th>9977</th>\n",
       "      <td>02182 Keith Expressway\\nEast Shannon, CT 20578...</td>\n",
       "      <td>34 RL</td>\n",
       "      <td>AM</td>\n",
       "      <td>Mozilla/5.0 (compatible; MSIE 9.0; Windows NT ...</td>\n",
       "      <td>Deleon, Jacobson and Benton</td>\n",
       "      <td>4.190000e+15</td>\n",
       "      <td>21-Jun</td>\n",
       "      <td>397</td>\n",
       "      <td>JCB 16 digit</td>\n",
       "      <td>daltoncarter@yahoo.com</td>\n",
       "      <td>Biomedical engineer</td>\n",
       "      <td>146.238.118.2</td>\n",
       "      <td>fr</td>\n",
       "      <td>94.93</td>\n",
       "    </tr>\n",
       "    <tr>\n",
       "      <th>9996</th>\n",
       "      <td>832 Curtis Dam Suite 785\\nNorth Edwardburgh, T...</td>\n",
       "      <td>41 JY</td>\n",
       "      <td>AM</td>\n",
       "      <td>Mozilla/5.0 (compatible; MSIE 9.0; Windows NT ...</td>\n",
       "      <td>Hale, Collins and Wilson</td>\n",
       "      <td>2.100000e+14</td>\n",
       "      <td>25-Jul</td>\n",
       "      <td>207</td>\n",
       "      <td>JCB 16 digit</td>\n",
       "      <td>mary85@hotmail.com</td>\n",
       "      <td>Energy engineer</td>\n",
       "      <td>121.133.168.51</td>\n",
       "      <td>pt</td>\n",
       "      <td>25.63</td>\n",
       "    </tr>\n",
       "  </tbody>\n",
       "</table>\n",
       "<p>984 rows × 14 columns</p>\n",
       "</div>"
      ],
      "text/plain": [
       "                                                Address    Lot AM or PM  \\\n",
       "1     9374 Jasmine Spurs Suite 508\\nSouth John, TN 8...  28 rn       PM   \n",
       "3                 7780 Julia Fords\\nNew Stacy, WA 45798  36 vm       PM   \n",
       "50      41159 Michael Centers\\nAdamsfort, RI 37108-6674  46 Ce       PM   \n",
       "55    27635 Maureen Bypass Apt. 883\\nSandraview, SD ...  59 LJ       AM   \n",
       "60    7126 Katherine Squares\\nPerkinsview, CO 97299-...  63 qu       AM   \n",
       "...                                                 ...    ...      ...   \n",
       "9948  95544 Johnson Isle Suite 939\\nMichaelberg, RI ...  91 bW       AM   \n",
       "9952            9991 Vaughn Hills\\nRacheltown, PA 55409  36 KC       PM   \n",
       "9970              0060 Keith Stream\\nWestport, CO 47097  11 nt       PM   \n",
       "9977  02182 Keith Expressway\\nEast Shannon, CT 20578...  34 RL       AM   \n",
       "9996  832 Curtis Dam Suite 785\\nNorth Edwardburgh, T...  41 JY       AM   \n",
       "\n",
       "                                           Browser Info  \\\n",
       "1     Opera/8.93.(Windows 98; Win 9x 4.90; en-US) Pr...   \n",
       "3     Mozilla/5.0 (Macintosh; Intel Mac OS X 10_8_0 ...   \n",
       "50    Mozilla/5.0 (Windows 98; Win 9x 4.90; sl-SI; r...   \n",
       "55    Mozilla/5.0 (iPod; U; CPU iPhone OS 3_3 like M...   \n",
       "60    Opera/8.68.(X11; Linux x86_64; en-US) Presto/2...   \n",
       "...                                                 ...   \n",
       "9948  Opera/8.36.(X11; Linux x86_64; sl-SI) Presto/2...   \n",
       "9952  Mozilla/5.0 (X11; Linux i686; rv:1.9.5.20) Gec...   \n",
       "9970  Mozilla/5.0 (Macintosh; U; Intel Mac OS X 10_8...   \n",
       "9977  Mozilla/5.0 (compatible; MSIE 9.0; Windows NT ...   \n",
       "9996  Mozilla/5.0 (compatible; MSIE 9.0; Windows NT ...   \n",
       "\n",
       "                              Company   Credit Card CC Exp Date  \\\n",
       "1     Fletcher, Richards and Whitaker  3.340000e+15      18-Nov   \n",
       "3     Williams, Marshall and Buchanan  6.010000e+15      24-Feb   \n",
       "50        Wright, Williams and Mendez  4.010000e+15      19-May   \n",
       "55                         Sims-Lyons  3.160000e+15      19-Sep   \n",
       "60                 Marshall-Fernandez  3.500000e+14      20-May   \n",
       "...                               ...           ...         ...   \n",
       "9948                     Fox-Peterson  4.760000e+12      17-Mar   \n",
       "9952         Ward, Smith and Castillo  6.010000e+15      19-Sep   \n",
       "9970         Carpenter, Good and Hart  6.010000e+15      19-Jul   \n",
       "9977      Deleon, Jacobson and Benton  4.190000e+15      21-Jun   \n",
       "9996         Hale, Collins and Wilson  2.100000e+14      25-Jul   \n",
       "\n",
       "      CC Security Code    CC Provider                        Email  \\\n",
       "1                  561     Mastercard           anthony41@reed.com   \n",
       "3                  384       Discover  brent16@olson-robinson.info   \n",
       "50                 945   JCB 16 digit    susanvalentine@obrien.org   \n",
       "55                 857  VISA 16 digit       adkinsarthur@yahoo.com   \n",
       "60                 672   JCB 15 digit      sweeneyhannah@jones.biz   \n",
       "...                ...            ...                          ...   \n",
       "9948               567     Mastercard      haleybenjamin@gmail.com   \n",
       "9952               964        Voyager      jonesjennifer@olson.com   \n",
       "9970               543       Discover      rangelbrian@hotmail.com   \n",
       "9977               397   JCB 16 digit       daltoncarter@yahoo.com   \n",
       "9996               207   JCB 16 digit           mary85@hotmail.com   \n",
       "\n",
       "                                      Job       IP Address Language  \\\n",
       "1                       Drilling engineer     15.160.41.51       fr   \n",
       "3                       Drilling engineer     30.250.74.19       es   \n",
       "50                    Mechanical engineer  213.203.143.215       de   \n",
       "55    Engineer, broadcasting (operations)   227.235.89.210       pt   \n",
       "60                 Engineer, agricultural  197.144.142.102       de   \n",
       "...                                   ...              ...      ...   \n",
       "9948                  Structural engineer    120.36.140.58       en   \n",
       "9952                     Engineer, energy    116.228.12.42       es   \n",
       "9970                  Electrical engineer     242.8.85.205       en   \n",
       "9977                  Biomedical engineer    146.238.118.2       fr   \n",
       "9996                      Energy engineer   121.133.168.51       pt   \n",
       "\n",
       "      Purchase Price  \n",
       "1              70.73  \n",
       "3              78.04  \n",
       "50             36.85  \n",
       "55             48.74  \n",
       "60             20.43  \n",
       "...              ...  \n",
       "9948           71.89  \n",
       "9952           39.63  \n",
       "9970           17.76  \n",
       "9977           94.93  \n",
       "9996           25.63  \n",
       "\n",
       "[984 rows x 14 columns]"
      ]
     },
     "execution_count": 12,
     "metadata": {},
     "output_type": "execute_result"
    }
   ],
   "source": [
    "#To make the search (uper/lower case) insensitive we use case argument\n",
    "df[df['Job'].str.contains('engineer', case= False)]"
   ]
  },
  {
   "cell_type": "markdown",
   "metadata": {},
   "source": [
    "Task 10: Find the Email address of the person with the following IP Address 132.207.160.22"
   ]
  },
  {
   "cell_type": "code",
   "execution_count": 13,
   "metadata": {},
   "outputs": [
    {
     "data": {
      "text/plain": [
       "Index(['Address', 'Lot', 'AM or PM', 'Browser Info', 'Company', 'Credit Card',\n",
       "       'CC Exp Date', 'CC Security Code', 'CC Provider', 'Email', 'Job',\n",
       "       'IP Address', 'Language', 'Purchase Price'],\n",
       "      dtype='object')"
      ]
     },
     "execution_count": 13,
     "metadata": {},
     "output_type": "execute_result"
    }
   ],
   "source": [
    "df.columns"
   ]
  },
  {
   "cell_type": "code",
   "execution_count": 14,
   "metadata": {},
   "outputs": [
    {
     "data": {
      "text/plain": [
       "2    amymiller@morales-harrison.com\n",
       "Name: Email, dtype: object"
      ]
     },
     "execution_count": 14,
     "metadata": {},
     "output_type": "execute_result"
    }
   ],
   "source": [
    "df[df['IP Address']== '132.207.160.22']['Email']"
   ]
  },
  {
   "cell_type": "markdown",
   "metadata": {},
   "source": [
    "Task 11: How many people have mastercard as their CreditCard Provider and made a Purchase above 50?"
   ]
  },
  {
   "cell_type": "code",
   "execution_count": 15,
   "metadata": {},
   "outputs": [
    {
     "data": {
      "text/plain": [
       "405"
      ]
     },
     "execution_count": 15,
     "metadata": {},
     "output_type": "execute_result"
    }
   ],
   "source": [
    "len(df[(df['CC Provider']=='Mastercard') & (df['Purchase Price'] > 50)])"
   ]
  },
  {
   "cell_type": "code",
   "execution_count": 16,
   "metadata": {},
   "outputs": [
    {
     "data": {
      "text/plain": [
       "Index(['Address', 'Lot', 'AM or PM', 'Browser Info', 'Company', 'Credit Card',\n",
       "       'CC Exp Date', 'CC Security Code', 'CC Provider', 'Email', 'Job',\n",
       "       'IP Address', 'Language', 'Purchase Price'],\n",
       "      dtype='object')"
      ]
     },
     "execution_count": 16,
     "metadata": {},
     "output_type": "execute_result"
    }
   ],
   "source": [
    "df.columns"
   ]
  },
  {
   "cell_type": "markdown",
   "metadata": {},
   "source": [
    "Task 12: How many people purchases in the AM or PM?"
   ]
  },
  {
   "cell_type": "code",
   "execution_count": 17,
   "metadata": {},
   "outputs": [
    {
     "data": {
      "text/plain": [
       "PM    5068\n",
       "AM    4932\n",
       "Name: AM or PM, dtype: int64"
      ]
     },
     "execution_count": 17,
     "metadata": {},
     "output_type": "execute_result"
    }
   ],
   "source": [
    "df['AM or PM'].value_counts()"
   ]
  },
  {
   "cell_type": "markdown",
   "metadata": {},
   "source": [
    "Task 13: How many people have Credit Card Expires in 2020?"
   ]
  },
  {
   "cell_type": "code",
   "execution_count": 18,
   "metadata": {},
   "outputs": [
    {
     "data": {
      "text/html": [
       "<div>\n",
       "<style scoped>\n",
       "    .dataframe tbody tr th:only-of-type {\n",
       "        vertical-align: middle;\n",
       "    }\n",
       "\n",
       "    .dataframe tbody tr th {\n",
       "        vertical-align: top;\n",
       "    }\n",
       "\n",
       "    .dataframe thead th {\n",
       "        text-align: right;\n",
       "    }\n",
       "</style>\n",
       "<table border=\"1\" class=\"dataframe\">\n",
       "  <thead>\n",
       "    <tr style=\"text-align: right;\">\n",
       "      <th></th>\n",
       "      <th>Address</th>\n",
       "      <th>Lot</th>\n",
       "      <th>AM or PM</th>\n",
       "      <th>Browser Info</th>\n",
       "      <th>Company</th>\n",
       "      <th>Credit Card</th>\n",
       "      <th>CC Exp Date</th>\n",
       "      <th>CC Security Code</th>\n",
       "      <th>CC Provider</th>\n",
       "      <th>Email</th>\n",
       "      <th>Job</th>\n",
       "      <th>IP Address</th>\n",
       "      <th>Language</th>\n",
       "      <th>Purchase Price</th>\n",
       "    </tr>\n",
       "  </thead>\n",
       "  <tbody>\n",
       "  </tbody>\n",
       "</table>\n",
       "</div>"
      ],
      "text/plain": [
       "Empty DataFrame\n",
       "Columns: [Address, Lot, AM or PM, Browser Info, Company, Credit Card, CC Exp Date, CC Security Code, CC Provider, Email, Job, IP Address, Language, Purchase Price]\n",
       "Index: []"
      ]
     },
     "execution_count": 18,
     "metadata": {},
     "output_type": "execute_result"
    }
   ],
   "source": [
    "\n",
    "def func():\n",
    "    count = 0\n",
    "    for date in df['CC Exp Date']:\n",
    "        if date.split('/')[1]=='20':\n",
    "            count= count+1\n",
    "    print (count)\n",
    "\n",
    "df[df['CC Exp Date'].apply(lambda x:x[3:]=='2020')]\n",
    "\n"
   ]
  },
  {
   "cell_type": "code",
   "execution_count": 19,
   "metadata": {},
   "outputs": [
    {
     "data": {
      "text/plain": [
       "0       20-Feb\n",
       "1       18-Nov\n",
       "2       19-Aug\n",
       "3       24-Feb\n",
       "4       25-Oct\n",
       "         ...  \n",
       "9995    22-Mar\n",
       "9996    25-Jul\n",
       "9997    21-May\n",
       "9998    17-Nov\n",
       "9999    19-Feb\n",
       "Name: CC Exp Date, Length: 10000, dtype: object"
      ]
     },
     "execution_count": 19,
     "metadata": {},
     "output_type": "execute_result"
    }
   ],
   "source": [
    "df['CC Exp Date']"
   ]
  },
  {
   "cell_type": "markdown",
   "metadata": {},
   "source": [
    "Task 14: Top 5 most popular E-mail Providers?"
   ]
  },
  {
   "cell_type": "code",
   "execution_count": 25,
   "metadata": {},
   "outputs": [
    {
     "data": {
      "text/plain": [
       "hotmail.com     1638\n",
       "yahoo.com       1616\n",
       "gmail.com       1605\n",
       "smith.com         42\n",
       "williams.com      37\n",
       "Name: Email, dtype: int64"
      ]
     },
     "execution_count": 25,
     "metadata": {},
     "output_type": "execute_result"
    }
   ],
   "source": [
    "#First Method\n",
    "\n",
    "list1 = []\n",
    "for email in df['Email']:\n",
    "    list1.append( email.split('@')[1])\n",
    "\n",
    "df['Temp'] = list1\n",
    "\n",
    "df['Temp'] = list1\n",
    "df['Temp'].value_counts()\n",
    "\n",
    "\n",
    "#Second Method\n",
    "\n",
    "df['Email'].apply(lambda x: x.split('@')[1]).value_counts().head(5)\n"
   ]
  },
  {
   "cell_type": "code",
   "execution_count": 21,
   "metadata": {},
   "outputs": [
    {
     "data": {
      "text/plain": [
       "['junaidali9559@gmail.com', 'junaidali9559@hotmail.com']"
      ]
     },
     "execution_count": 21,
     "metadata": {},
     "output_type": "execute_result"
    }
   ],
   "source": [
    "import re\n",
    "file = 'My email id is junaidali9559@gmail.com and the other one is junaidali9559@hotmail.com '\n",
    "re.findall(\"([\\w.-]+@[\\w.-]+)\",file)"
   ]
  }
 ],
 "metadata": {
  "interpreter": {
   "hash": "b8b2c87ddcb590a56758499e46b479e8b328a4c31b9b0142a83731d02c828c63"
  },
  "kernelspec": {
   "display_name": "Python 3.9.5 64-bit ('data_analysis': conda)",
   "language": "python",
   "name": "python3"
  },
  "language_info": {
   "codemirror_mode": {
    "name": "ipython",
    "version": 3
   },
   "file_extension": ".py",
   "mimetype": "text/x-python",
   "name": "python",
   "nbconvert_exporter": "python",
   "pygments_lexer": "ipython3",
   "version": "3.9.5"
  },
  "orig_nbformat": 4
 },
 "nbformat": 4,
 "nbformat_minor": 2
}
